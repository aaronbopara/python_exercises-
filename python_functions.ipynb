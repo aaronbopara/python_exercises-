{
 "cells": [
  {
   "cell_type": "markdown",
   "metadata": {},
   "source": [
    "# **Aaron Bopara's Generic Python Functions** # \n"
   ]
  },
  {
   "cell_type": "markdown",
   "metadata": {},
   "source": [
    "## **Background** ##\n",
    "\n",
    "This repository contains a selection of Python functions, primarily from LeetCode challenges and other exercises, designed to showcase my problem-solving skills and proficiency in Python."
   ]
  },
  {
   "cell_type": "code",
   "execution_count": 64,
   "metadata": {},
   "outputs": [
    {
     "data": {
      "text/plain": [
       "[True]"
      ]
     },
     "execution_count": 64,
     "metadata": {},
     "output_type": "execute_result"
    }
   ],
   "source": [
    "#Palindrome Number Verifier \n",
    "\n",
    "def palindrome_numbers1(input_list: list[int]) -> list[bool]:\n",
    "    \"\"\"This function accepts a list of integers and returns an list of Boolean values.\n",
    "       The output list should contain True for palindrome numbers in \n",
    "       the input list, False for non-palindrome numbers and None for\n",
    "         non-integer elements \"\"\"\n",
    "\n",
    "    output_list = []\n",
    "    for number in input_list :\n",
    "        if isinstance(number, int) :\n",
    "            number = str(number)\n",
    "            if number == number[::-1] :\n",
    "                output_list.append(True)\n",
    "            else : output_list.append(False)\n",
    "        elif isinstance(number,int) is False :\n",
    "            output_list.append(None)\n",
    "    return output_list \n",
    "\n",
    "#Test \n",
    "palindrome_numbers1([12321])\n",
    "\n",
    "#Returns : [True]\n"
   ]
  },
  {
   "cell_type": "code",
   "execution_count": 65,
   "metadata": {},
   "outputs": [
    {
     "data": {
      "text/plain": [
       "([1, 3, 5, 7, 9], [2, 4, 6, 8])"
      ]
     },
     "execution_count": 65,
     "metadata": {},
     "output_type": "execute_result"
    }
   ],
   "source": [
    "#Split Odd and Even Elements Function\n",
    "\n",
    "def split_odd_even(input_list : list[int]) -> tuple[list] :\n",
    "    \"\"\"This function accepts a single input list of integers and returns a tuple \n",
    "       of two lists. The first list in the tuple contains the odd integers present \n",
    "       in the input list. The second list contains the even integers in present in \n",
    "       the input list \"\"\"\n",
    "    \n",
    "    odd_list = []\n",
    "    even_list = []\n",
    "    output_tuple = ()\n",
    "    for number in input_list :\n",
    "        if isinstance(number, int) :\n",
    "            if number%2 == 0 :\n",
    "                even_list.append(number)\n",
    "            if number%2 != 0 :\n",
    "                odd_list.append(number)\n",
    "\n",
    "    output_tuple = (odd_list, even_list)\n",
    "\n",
    "    return output_tuple \n",
    "\n",
    "#Test\n",
    "split_odd_even([1,2,3,4,5,6,7,8,9])\n",
    "\n",
    "#Returns : ([1, 3, 5, 7, 9], [2, 4, 6, 8])\n"
   ]
  },
  {
   "cell_type": "code",
   "execution_count": 48,
   "metadata": {},
   "outputs": [
    {
     "data": {
      "text/plain": [
       "[('New Year’s Day', '2024-01-01'),\n",
       " ('Good Friday', '2024-03-29'),\n",
       " ('Easter Monday', '2024-04-01'),\n",
       " ('Early May bank holiday', '2024-05-06'),\n",
       " ('Spring bank holiday', '2024-05-27'),\n",
       " ('Summer bank holiday', '2024-08-26'),\n",
       " ('Christmas Day', '2024-12-25'),\n",
       " ('Boxing Day', '2024-12-26')]"
      ]
     },
     "execution_count": 48,
     "metadata": {},
     "output_type": "execute_result"
    }
   ],
   "source": [
    "# Basic API Calling : UK Bank Holidays \n",
    "\n",
    "import requests \n",
    "\n",
    "def get_uk_bank_holidays(region: str, year: int) -> list:\n",
    "    \"\"\"This example calls an API from `https://www.gov.uk/bank-holidays.json` to\n",
    "    retrieve information about UK bank holidays. The function takes two input arguments,\n",
    "   `region` and `year` - specifying the region (options: 'england-and-wales', \n",
    "   'scotland', or 'northern-ireland'), and the year for which bank holidays are \n",
    "   requested.It returns a list of tuples, each of which contain the bank holiday \n",
    "   name and the bank holiday date.\n",
    "   \"\"\"\n",
    "\n",
    "    url = r'https://www.gov.uk/bank-holidays.json'\n",
    "    bank_holidays = []\n",
    "    \n",
    "    # Make a request to the URL\n",
    "    response = requests.get(url)\n",
    "    \n",
    "    # Parse the JSON response\n",
    "    response_dict = response.json()\n",
    "    \n",
    "    # Get the list of events for the specified region\n",
    "    region_specific_events = response_dict.get(region, {}).get('events', [])\n",
    "    \n",
    "    # Iterate over each holiday event in the region\n",
    "    for holiday in region_specific_events:\n",
    "        # Check if the holiday is in the specified year, extracts first 4 characters\n",
    "        if holiday['date'][:4] == str(year):\n",
    "            holiday_name = holiday['title']\n",
    "            holiday_date = holiday['date']\n",
    "            bank_holidays.append((holiday_name, holiday_date))\n",
    "    \n",
    "    return bank_holidays\n",
    "\n",
    "#Test\n",
    "get_uk_bank_holidays('england-and-wales', 2024)\n",
    "\n",
    "#Returns : [('New Year’s Day', '2024-01-01'),\n",
    "#  ('Good Friday', '2024-03-29'),\n",
    "#  ('Easter Monday', '2024-04-01'),\n",
    "#  ('Early May bank holiday', '2024-05-06'),\n",
    "#  ('Spring bank holiday', '2024-05-27'),\n",
    "#  ('Summer bank holiday', '2024-08-26'),\n",
    "#  ('Christmas Day', '2024-12-25'),\n",
    "#  ('Boxing Day', '2024-12-26')]"
   ]
  },
  {
   "cell_type": "code",
   "execution_count": 57,
   "metadata": {},
   "outputs": [
    {
     "data": {
      "text/plain": [
       "['Bopara, Mr. A. N. S.', 'Lipa, Mrs. D.', 'King, Dr. M. L.']"
      ]
     },
     "execution_count": 57,
     "metadata": {},
     "output_type": "execute_result"
    }
   ],
   "source": [
    "# String Processing \n",
    "\n",
    "def name_processing(list_of_names: list[str]) -> list[str]:\n",
    "    \"\"\"This function processes a list of full name strings. Each string consists \n",
    "       of a title (optional), a first name, optional middle names, and a surname,\n",
    "       separated by spaces. The function returns a list with names reformatted as \n",
    "       'Surname, Firstname M.I.', with each name capitalized. Titles are preserved \n",
    "       if present.\"\"\"\n",
    "\n",
    "    rearranged_names = []\n",
    "\n",
    "    for full_name in list_of_names:\n",
    "        # Split the full name into parts\n",
    "        name_parts = full_name.split()\n",
    "\n",
    "        # Initialize title, first name, middle names, and surname variables\n",
    "        title = \"\"\n",
    "        first_name = \"\"\n",
    "        middle_initials = []\n",
    "        surname = \"\"\n",
    "\n",
    "        # Check if the first part is a title\n",
    "        if name_parts[0] in {\"Mr\", \"Mrs\", \"Ms\", \"Dr\", \"Prof\"}:  # Extend this set as needed\n",
    "            title = name_parts.pop(0)  # Remove title from the list\n",
    "\n",
    "        # Extract the remaining parts\n",
    "        if len(name_parts) > 1:\n",
    "            # The last part is always the surname\n",
    "            surname = name_parts[-1]\n",
    "            # The first part is always the first name\n",
    "            first_name = name_parts[0]\n",
    "            # If there are more than two parts, the middle name(s) exist\n",
    "            if len(name_parts) > 2:\n",
    "                # Extract initials of all middle names\n",
    "                middle_initials = [name[0] + '.' for name in name_parts[1:-1]]\n",
    "        else:\n",
    "            # Only one part (e.g., single name case, treat as first name)\n",
    "            first_name = name_parts[0]\n",
    "\n",
    "        # Capitalize names\n",
    "        title = title.capitalize() if title else \"\"\n",
    "        first_name = first_name.capitalize()\n",
    "        surname = surname.capitalize()\n",
    "        middle_name_part = \" \".join(middle_initials)\n",
    "\n",
    "        # Combine surname, first name, and middle initials\n",
    "        if title:\n",
    "            rearranged_name = f\"{title}. {surname}, {first_name} {middle_name_part}\"\n",
    "        else:\n",
    "            rearranged_name = f\"{surname}, {first_name} {middle_name_part}\"\n",
    "\n",
    "        # Add to the list of rearranged names\n",
    "        rearranged_names.append(rearranged_name)\n",
    "\n",
    "    return rearranged_names\n",
    "\n",
    "# Test\n",
    "name_processing(['Mr. Aaron Navraj Singh Bopara', 'Mrs. Dua Lipa', 'Dr. Martin Luther King'])\n",
    "\n",
    "\n",
    "#Returns : ['Bopara, Aaron N. S.', 'Lipa, Dua', 'King, Martin L.']\n"
   ]
  },
  {
   "cell_type": "code",
   "execution_count": 66,
   "metadata": {},
   "outputs": [
    {
     "data": {
      "text/plain": [
       "['Swimming']"
      ]
     },
     "execution_count": 66,
     "metadata": {},
     "output_type": "execute_result"
    }
   ],
   "source": [
    "# Sets : Interests In Common\n",
    "\n",
    "def interests_in_common(list1: list[str], list2: list[str], list3: list[str]) -> list[str]:\n",
    "    \"\"\"This function accepts three different lists of interests, where each element \n",
    "       is a lower case string. It returns a list of the interests they have in \n",
    "       common. If there are no interests in common or if the lists of interests \n",
    "       are all empty, the function should return an empty list\"\"\"\n",
    "\n",
    "    common_interests_list = []\n",
    "    list_1, list_2, list_3 = [list(map(str.lower, lst)) for lst in [list1, list2, list3]]\n",
    "\n",
    "    if len(list_1) > 0 : \n",
    "        if len(list_2) > 0 : \n",
    "            if len(list_3) > 0 : \n",
    "                common_interests =  set(list1) & set(list2) & set(list3)\n",
    "                common_interests_list = list(common_interests)\n",
    "    else : pass \n",
    "    return common_interests_list\n",
    "\n",
    "#Test \n",
    "interests_in_common(['Swimming' , 'Football', 'Reading'], ['Swimming', 'Spa', 'Biking'], \n",
    "                    ['Gym', 'Python', 'Swimming'])\n",
    "\n",
    "#Returns : ['Swimming']\n",
    "\n"
   ]
  },
  {
   "cell_type": "code",
   "execution_count": 46,
   "metadata": {},
   "outputs": [
    {
     "data": {
      "text/plain": [
       "False"
      ]
     },
     "execution_count": 46,
     "metadata": {},
     "output_type": "execute_result"
    }
   ],
   "source": [
    "#Object Orientated Programming : MyLogger \n",
    "\n",
    "class MyLogger:\n",
    "\t\"\"\"\n",
    "\tThis creates a mock logging class called `MyLogger`.The `MyLogger` \n",
    "\tclass is initialised with a `disk_space` argument which is an integer. When \n",
    "\tinitialised, `disk_remaining` should be set to the value of `disk_space`, i.e. \n",
    "    it is assumed that none of the disk has been used at this point.\n",
    "\t\n",
    "\tInstance attributes:\n",
    "\t- `disk_space` (int)\n",
    "\t- `disk_remaining` (int)\n",
    "\t\n",
    "\tThe class also implements three methods:\n",
    "\t\n",
    "\tMethods:\n",
    "    \n",
    "\t- `disk_full`: Returns `True` if `disk_remaining` is 0, otherwise `False`.\n",
    "\t- `log_to_file`: If the disk is not full, the function decrements `disk_remaining`\n",
    "\t   by 1 unit and return the string `Successfully logged`. Otherwise \n",
    "\t   (if the disk is full), the function returns the string `Disk full`.\n",
    "\t- `delete_logs`: Sets `disk_remaining` to `disk_space` and returns the string \n",
    "    `Logs deleted`.\n",
    "    \"\"\"\n",
    "\n",
    "\n",
    "\tdef __init__(self, disk_space : int) :\n",
    "\t\t\"\"\"initialising the logger\"\"\"\n",
    "\t\tself.disk_space = disk_space\n",
    "\t\tself.disk_remaining = disk_space \n",
    "\t\n",
    "\tdef disk_full (self) : \n",
    "\t\t\"\"\"Checking if the disk is full\"\"\"\n",
    "\t\tif self.disk_remaining == 0 : \n",
    "\t\t\treturn True \n",
    "\t\telse : return False \n",
    "\t\n",
    "\tdef log_to_file (self) : \n",
    "\t\t\"Logging a file to the logger\"\n",
    "\t\tif self.disk_remaining > 0 : \n",
    "\t\t\tself.disk_remaining -= 1 \n",
    "\t\t\treturn 'Successfully logged'\n",
    "\t\telse : return 'Disk full'\n",
    "\n",
    "\tdef delete_logs(self) : \n",
    "\t\t\"\"\"Deleting all logs in the logger\"\"\"\n",
    "\t\tself.disk_remaining = self.disk_space \n",
    "\t\treturn 'Logs Deleted'\n",
    "     \n",
    "\n",
    "#Test \n",
    "\n",
    "#Initialise AaronsLogger\n",
    "AaronsLogger = MyLogger(disk_space = 100)\n",
    "\n",
    "#Log some of the files \n",
    "AaronsLogger.log_to_file()\n",
    "AaronsLogger.log_to_file()\n",
    "AaronsLogger.log_to_file()\n",
    "AaronsLogger.log_to_file()\n",
    "AaronsLogger.log_to_file()\n",
    "\n",
    "#Checking if the disk is full \n",
    "AaronsLogger.disk_full()\n"
   ]
  },
  {
   "cell_type": "code",
   "execution_count": 49,
   "metadata": {},
   "outputs": [
    {
     "data": {
      "text/plain": [
       "2"
      ]
     },
     "execution_count": 49,
     "metadata": {},
     "output_type": "execute_result"
    }
   ],
   "source": [
    "#N Factorial and Trailling Zeroes Calculator \n",
    "\n",
    "def finding_trailing_zeroes (n : int)  -> int: \n",
    "    \"\"\"This function returns the amount of trailling zeroes in factorial n\"\"\"\n",
    "    fact = n \n",
    "    while n > 1 : \n",
    "        fact = fact*(n-1)\n",
    "        n = n - 1 \n",
    "    \n",
    "    result = 0 \n",
    "\n",
    "    for i in str(fact)[::-1] : \n",
    "        if i == \"0\" : \n",
    "            result = result + 1 \n",
    "        else : \n",
    "            break \n",
    "    \n",
    "    return result \n",
    "\n",
    "\n",
    "#Testing the results \n",
    "finding_trailing_zeroes(10)\n",
    "#Result : 2"
   ]
  },
  {
   "cell_type": "code",
   "execution_count": 51,
   "metadata": {},
   "outputs": [
    {
     "data": {
      "text/plain": [
       "'Iloveyou'"
      ]
     },
     "execution_count": 51,
     "metadata": {},
     "output_type": "execute_result"
    }
   ],
   "source": [
    "#String White Space Replacer \n",
    "\n",
    "def string_replace (string : str, char : str)  -> str: \n",
    "    \"\"\"This function takes a string : string and a single character string : char. \n",
    "    It then replaces all white spaces in string with char\"\"\"\n",
    "    result = ''\n",
    "    for i in string : \n",
    "        if i == ' ' : \n",
    "            i = char \n",
    "        result += i \n",
    "    return result \n",
    "    \n",
    "#Test\n",
    "string_replace('Il vey u', 'o')\n",
    "\n",
    "#Result : 'Iloveyou'\n"
   ]
  },
  {
   "cell_type": "code",
   "execution_count": 58,
   "metadata": {},
   "outputs": [
    {
     "data": {
      "text/plain": [
       "True"
      ]
     },
     "execution_count": 58,
     "metadata": {},
     "output_type": "execute_result"
    }
   ],
   "source": [
    "#Perfect Square Verifier \n",
    "\n",
    "def perfect_square (num : int) -> bool : \n",
    "    \"\"\"This function takes in an integer and returns a Boolean value. If the integer\n",
    "       is a perfect square, then the function returns True, if not a perfect square \n",
    "       the function returns False \"\"\"\n",
    "    square = int(num)**0.5 \n",
    "    check = square**2 ==num\n",
    "    return check\n",
    "\n",
    "#Test\n",
    "perfect_square(25)\n",
    "\n",
    "#Result : True "
   ]
  },
  {
   "cell_type": "code",
   "execution_count": 62,
   "metadata": {},
   "outputs": [
    {
     "data": {
      "text/plain": [
       "True"
      ]
     },
     "execution_count": 62,
     "metadata": {},
     "output_type": "execute_result"
    }
   ],
   "source": [
    "#Checking whether a string can be segmented by a selection of 2 words in a list\n",
    "\n",
    "def can_segment_str(s : str, word_list :list[str] ) -> bool:\n",
    "    \"\"\"This function accepts in a string and a list of words. If the string can \n",
    "       be segmented by any 2 words in the input list then the function will return \n",
    "       True. If the string can't be segmented then the function will return False.\n",
    "       \"\"\"\n",
    "    for i in range(1, len(s) + 1):\n",
    "        first_str = s[0:i]\n",
    "        if first_str in word_list:\n",
    "            second_str = s[i:]\n",
    "            if (\n",
    "                not second_str\n",
    "                or second_str in word_list\n",
    "                or can_segment_str(second_str, word_list)\n",
    "            ):\n",
    "                return True\n",
    "    return False\n",
    "\n",
    "#Test\n",
    "can_segment_str(\"datacamp\", [\"data\", \"camp\", \"cam\", \"lack\"])\n",
    "\n",
    "#Result : True \n",
    "\n",
    "\n"
   ]
  },
  {
   "cell_type": "code",
   "execution_count": 69,
   "metadata": {},
   "outputs": [
    {
     "data": {
      "text/plain": [
       "5"
      ]
     },
     "execution_count": 69,
     "metadata": {},
     "output_type": "execute_result"
    }
   ],
   "source": [
    "# Maths Problem : Distribution of Candies According to Essay Marks\n",
    "\n",
    "def candy(marks: list[int]) -> int:\n",
    "        \"\"\"This function accepts a list which is an array of essay marks for n \n",
    "           children. Each child must have one candy and children with higher marks \n",
    "           will get more candy then their neighbours. Return the minimum number of \n",
    "           candies you need to return in order to distribute the candies to the \n",
    "           children\"\"\"\n",
    "        n = len(marks)\n",
    "        candies = [1] * n \n",
    "\n",
    "        for i in range(1, n):\n",
    "            if marks[i] > marks[i-1]:\n",
    "                candies[i] = candies[i-1] + 1\n",
    "\n",
    "        for i in range(n-2, -1, -1):\n",
    "            if marks[i] > marks[i+1]:\n",
    "                candies[i] = max(candies[i], candies[i+1] + 1)\n",
    "        \n",
    "        return sum(candies)\n",
    "\n",
    "#Test\n",
    "candy([1,0,2])\n",
    "\n",
    "#Result : 5\n"
   ]
  }
 ],
 "metadata": {
  "kernelspec": {
   "display_name": "venv",
   "language": "python",
   "name": "python3"
  },
  "language_info": {
   "codemirror_mode": {
    "name": "ipython",
    "version": 3
   },
   "file_extension": ".py",
   "mimetype": "text/x-python",
   "name": "python",
   "nbconvert_exporter": "python",
   "pygments_lexer": "ipython3",
   "version": "3.9.6"
  }
 },
 "nbformat": 4,
 "nbformat_minor": 2
}
